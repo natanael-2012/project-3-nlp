{
 "cells": [
  {
   "cell_type": "markdown",
   "metadata": {},
   "source": [
    "# NLP Challenge"
   ]
  },
  {
   "cell_type": "markdown",
   "metadata": {},
   "source": [
    "Objective: Determine if a given text was translated by a machine or a professional translator.\n",
    "\n",
    "For this project I was given a dataset with translated texts. The texts were translated by either a machine or a human, and we must determine which is which. The dataset contains two columns: the label and the translated text. The label is either 0 or 1, where 0 means the text was translated by a machine and 1 means the text was translated by a human **(0 = Machine, 1 = Human)**."
   ]
  },
  {
   "cell_type": "markdown",
   "metadata": {},
   "source": [
    "## Data Exploration"
   ]
  },
  {
   "cell_type": "markdown",
   "metadata": {},
   "source": [
    "We start by loading the data and checking the first few rows. The data is simply a txt file with the label and the text separated by a tab. After loading the data, we added column names for easier access and change the label type to integer.\n",
    "\n",
    "From the data info, we can see that there are no missing values, and has a total of ~15,000 entries. I also printed the first 5 texts to get a sense of the data. The `df.head()` did not print the full text, so I printed the first 5 texts individually."
   ]
  },
  {
   "cell_type": "code",
   "execution_count": 2,
   "metadata": {},
   "outputs": [
    {
     "name": "stdout",
     "output_type": "stream",
     "text": [
      "<class 'pandas.core.frame.DataFrame'>\n",
      "RangeIndex: 14924 entries, 0 to 14923\n",
      "Data columns (total 2 columns):\n",
      " #   Column  Non-Null Count  Dtype \n",
      "---  ------  --------------  ----- \n",
      " 0   label   14924 non-null  int8  \n",
      " 1   text    14924 non-null  object\n",
      "dtypes: int8(1), object(1)\n",
      "memory usage: 131.3+ KB\n"
     ]
    },
    {
     "data": {
      "text/plain": [
       "None"
      ]
     },
     "metadata": {},
     "output_type": "display_data"
    },
    {
     "data": {
      "text/html": [
       "<div>\n",
       "<style scoped>\n",
       "    .dataframe tbody tr th:only-of-type {\n",
       "        vertical-align: middle;\n",
       "    }\n",
       "\n",
       "    .dataframe tbody tr th {\n",
       "        vertical-align: top;\n",
       "    }\n",
       "\n",
       "    .dataframe thead th {\n",
       "        text-align: right;\n",
       "    }\n",
       "</style>\n",
       "<table border=\"1\" class=\"dataframe\">\n",
       "  <thead>\n",
       "    <tr style=\"text-align: right;\">\n",
       "      <th></th>\n",
       "      <th>label</th>\n",
       "      <th>text</th>\n",
       "    </tr>\n",
       "  </thead>\n",
       "  <tbody>\n",
       "    <tr>\n",
       "      <th>0</th>\n",
       "      <td>1</td>\n",
       "      <td>Cuando conocí a Janice en 2013 , una familia n...</td>\n",
       "    </tr>\n",
       "    <tr>\n",
       "      <th>1</th>\n",
       "      <td>0</td>\n",
       "      <td>Hwang habló en Sur de este año por Southwest M...</td>\n",
       "    </tr>\n",
       "    <tr>\n",
       "      <th>2</th>\n",
       "      <td>1</td>\n",
       "      <td>Usted podría pensar Katy Perry y Robert Pattin...</td>\n",
       "    </tr>\n",
       "    <tr>\n",
       "      <th>3</th>\n",
       "      <td>1</td>\n",
       "      <td>Cualquiera que haya volado los cielos del crea...</td>\n",
       "    </tr>\n",
       "    <tr>\n",
       "      <th>4</th>\n",
       "      <td>1</td>\n",
       "      <td>Bueno , este cantante tendrá un LARGO tiempo p...</td>\n",
       "    </tr>\n",
       "  </tbody>\n",
       "</table>\n",
       "</div>"
      ],
      "text/plain": [
       "   label                                               text\n",
       "0      1  Cuando conocí a Janice en 2013 , una familia n...\n",
       "1      0  Hwang habló en Sur de este año por Southwest M...\n",
       "2      1  Usted podría pensar Katy Perry y Robert Pattin...\n",
       "3      1  Cualquiera que haya volado los cielos del crea...\n",
       "4      1  Bueno , este cantante tendrá un LARGO tiempo p..."
      ]
     },
     "metadata": {},
     "output_type": "display_data"
    },
    {
     "name": "stdout",
     "output_type": "stream",
     "text": [
      "********************************************\n",
      "\n",
      "Printing first 5 texts, since df.head() does not display the full text\n",
      "\n",
      "['Cuando conocí a Janice en 2013 , una familia necesitaba 600 puntos , en promedio , para ser asignada a un apartamento del ayuntamiento de Camden .'\n",
      " 'Hwang habló en Sur de este año por Southwest Music and Media Conference sobre el tema de \" videos caseros-lanzallamas \" en YouTube .'\n",
      " 'Usted podría pensar Katy Perry y Robert Pattinson reencontrándose en Coachella es una gran noticia , ¡ hasta que es coronado por quién se toparon !'\n",
      " 'Cualquiera que haya volado los cielos del creador ha escuchado todo el acto del prevuelo con la información de seguridad hasta ahora , pero esta empleada ha volteado el guión un poco !'\n",
      " 'Bueno , este cantante tendrá un LARGO tiempo para sentir aún más remordimiento en estos próximos años !']\n"
     ]
    }
   ],
   "source": [
    "# Load dataset from txt file\n",
    "import numpy as np\n",
    "import pandas as pd\n",
    "\n",
    "\n",
    "df = pd.read_csv('./data/TRAINING_DATA.txt', sep = '\\t', header = None)\n",
    "df.columns = ['label', 'text']\n",
    "df['label'] = df['label'].astype('category')\n",
    "df['label'] = df['label'].cat.codes\n",
    "\n",
    "display(df.info())\n",
    "display(df.head(5))\n",
    "\n",
    "print(\"\"\"********************************************\n",
    "\n",
    "Printing first 5 texts, since df.head() does not display the full text\n",
    "\"\"\")\n",
    "print(df.values[:5,1])"
   ]
  },
  {
   "cell_type": "markdown",
   "metadata": {},
   "source": [
    "Now we will do a simple visualization to see the distribution of the labels. We can see that the dataset is balanced, with ~50% of the texts translated by a machine and ~50% by a human."
   ]
  },
  {
   "cell_type": "code",
   "execution_count": 11,
   "metadata": {},
   "outputs": [
    {
     "data": {
      "image/png": "[encoded data removed]",
      "text/plain": [
       "<Figure size 640x480 with 1 Axes>"
      ]
     },
     "metadata": {},
     "output_type": "display_data"
    }
   ],
   "source": [
    "import matplotlib.pyplot as plt\n",
    "import seaborn as sns\n",
    "\n",
    "# plot label distribution\n",
    "df.label.value_counts().plot(kind='bar', color = ['skyblue', 'orange'])\n",
    "plt.xlabel('Label')\n",
    "plt.ylabel('Count')\n",
    "plt.title('Label Distribution')\n",
    "\n",
    "# add count above the bar\n",
    "for i in range(len(df.label.value_counts())):\n",
    "    plt.text(i, df.label.value_counts()[i], df.label.value_counts()[i], ha = 'center', va = 'bottom')\n",
    "\n",
    "plt.show()"
   ]
  },
  {
   "cell_type": "markdown",
   "metadata": {},
   "source": [
    "## Data Preprocessing"
   ]
  },
  {
   "cell_type": "markdown",
   "metadata": {},
   "source": [
    "To continue with the data preprocessing, we will simply check that there are no tags (like html, css, or other encodings) in the text. Characters like commas and periods will not be removed, and the text will not be changed to lowercase, as it may affect the model's performance. We will use a function in `nlp_utils.py` to remove any tags from the text.\n",
    "\n",
    "Here is the code to remove tags from the text:\n",
    "\n",
    ">    ```python\n",
    ">    import re\n",
    ">    from bs4 import BeautifulSoup\n",
    ">    def clean_text(text):\n",
    ">        text = re.sub(r'<(script|style).*?>.*?</\\1>', '', text, flags=re.DOTALL)    # Step 1: Remove inline JavaScript/CSS\n",
    ">\n",
    ">        text = re.sub(r'<!--.*?-->', '', text, flags=re.DOTALL)  # Step 2: Remove HTML comments\n",
    ">\n",
    ">        soup = BeautifulSoup(text, 'html.parser')   # Step 3: Remove remaining HTML tags using BeautifulSoup\n",
    ">        text = soup.get_text(separator=' ')  # Extract text and separate with spaces\n",
    ">        \n",
    ">        text = re.sub(r'=[0-9A-Fa-f]{2}', ' ', text)     # Step 4: General regex to remove any encodings like =XX (two hexadecimal digits)\n",
    ">\n",
    ">        text = re.sub(r'\\s+', ' ', text).strip()        # Step 5: Remove extra whitespace\n",
    ">\n",
    ">        text = text.lstrip('b')     # Remove prefixed 'b'\n",
    ">        \n",
    ">        text = re.sub(r'\\s+', ' ', text) # Remove any extra spaces again, just to be sure\n",
    ">\n",
    ">        return text\n",
    ">    ```"
   ]
  },
  {
   "cell_type": "code",
   "execution_count": 12,
   "metadata": {},
   "outputs": [
    {
     "name": "stderr",
     "output_type": "stream",
     "text": [
      "c:\\Users\\Natanael\\Documents\\Ironhack\\week 7\\project-3-nlp\\nlp_utils.py:12: MarkupResemblesLocatorWarning: The input looks more like a filename than markup. You may want to open this file and pass the filehandle into Beautiful Soup.\n",
      "  soup = BeautifulSoup(text, 'html.parser')\n"
     ]
    },
    {
     "data": {
      "text/html": [
       "<div>\n",
       "<style scoped>\n",
       "    .dataframe tbody tr th:only-of-type {\n",
       "        vertical-align: middle;\n",
       "    }\n",
       "\n",
       "    .dataframe tbody tr th {\n",
       "        vertical-align: top;\n",
       "    }\n",
       "\n",
       "    .dataframe thead th {\n",
       "        text-align: right;\n",
       "    }\n",
       "</style>\n",
       "<table border=\"1\" class=\"dataframe\">\n",
       "  <thead>\n",
       "    <tr style=\"text-align: right;\">\n",
       "      <th></th>\n",
       "      <th>label</th>\n",
       "      <th>text</th>\n",
       "      <th>cleaned_text</th>\n",
       "    </tr>\n",
       "  </thead>\n",
       "  <tbody>\n",
       "    <tr>\n",
       "      <th>0</th>\n",
       "      <td>1</td>\n",
       "      <td>Cuando conocí a Janice en 2013 , una familia n...</td>\n",
       "      <td>Cuando conocí a Janice en 2013 , una familia n...</td>\n",
       "    </tr>\n",
       "    <tr>\n",
       "      <th>1</th>\n",
       "      <td>0</td>\n",
       "      <td>Hwang habló en Sur de este año por Southwest M...</td>\n",
       "      <td>Hwang habló en Sur de este año por Southwest M...</td>\n",
       "    </tr>\n",
       "    <tr>\n",
       "      <th>2</th>\n",
       "      <td>1</td>\n",
       "      <td>Usted podría pensar Katy Perry y Robert Pattin...</td>\n",
       "      <td>Usted podría pensar Katy Perry y Robert Pattin...</td>\n",
       "    </tr>\n",
       "    <tr>\n",
       "      <th>3</th>\n",
       "      <td>1</td>\n",
       "      <td>Cualquiera que haya volado los cielos del crea...</td>\n",
       "      <td>Cualquiera que haya volado los cielos del crea...</td>\n",
       "    </tr>\n",
       "    <tr>\n",
       "      <th>4</th>\n",
       "      <td>1</td>\n",
       "      <td>Bueno , este cantante tendrá un LARGO tiempo p...</td>\n",
       "      <td>Bueno , este cantante tendrá un LARGO tiempo p...</td>\n",
       "    </tr>\n",
       "  </tbody>\n",
       "</table>\n",
       "</div>"
      ],
      "text/plain": [
       "   label                                               text  \\\n",
       "0      1  Cuando conocí a Janice en 2013 , una familia n...   \n",
       "1      0  Hwang habló en Sur de este año por Southwest M...   \n",
       "2      1  Usted podría pensar Katy Perry y Robert Pattin...   \n",
       "3      1  Cualquiera que haya volado los cielos del crea...   \n",
       "4      1  Bueno , este cantante tendrá un LARGO tiempo p...   \n",
       "\n",
       "                                        cleaned_text  \n",
       "0  Cuando conocí a Janice en 2013 , una familia n...  \n",
       "1  Hwang habló en Sur de este año por Southwest M...  \n",
       "2  Usted podría pensar Katy Perry y Robert Pattin...  \n",
       "3  Cualquiera que haya volado los cielos del crea...  \n",
       "4  Bueno , este cantante tendrá un LARGO tiempo p...  "
      ]
     },
     "execution_count": 12,
     "metadata": {},
     "output_type": "execute_result"
    }
   ],
   "source": [
    "from nlp_utils import clean_text\n",
    "\n",
    "# clean text\n",
    "df['cleaned_text'] = df['text'].apply(clean_text)\n",
    "df.head(5)"
   ]
  },
  {
   "cell_type": "markdown",
   "metadata": {},
   "source": [
    "## Model Building"
   ]
  },
  {
   "cell_type": "markdown",
   "metadata": {},
   "source": [
    "Since we need to classify text snippets into two classes, we will use a text classification model. I decided to implement a **BERT** model, as it is a powerful model for NLP tasks. We will use the `transformers` library to load a pre-trained BERT model and tokenizer. We will use the `BertForSequenceClassification` model, which is a BERT model with a classification head on top. We will also use the `BertTokenizer` to tokenize the text. Finally, the actual reason why I chose BERT was to get some insights into how it works and how it can be used for text classification tasks.\n",
    "\n",
    "For the task of determining whether a translation was done by a machine or a human, using BERT would indeed be a good choice. Here's why:\n",
    "\n",
    "### Why BERT for This Task?\n",
    "1. **Contextual Understanding**: BERT's bidirectional nature allows it to capture subtle differences in language, such as fluency, grammar, and structure, which can often distinguish human translations from machine translations.\n",
    "2. **Fine-tuning Capabilities**: You can fine-tune a pre-trained BERT model on your dataset with labeled examples of human and machine translations, allowing it to learn the specific patterns that characterize each.\n",
    "3. **Handling Long Texts**: Translations might have complex sentence structures or nuanced phrasing. BERT can effectively handle these complexities due to its ability to consider both left and right contexts."
   ]
  },
  {
   "cell_type": "markdown",
   "metadata": {},
   "source": [
    "First, we import the necessary libraries, or install them and import them if they are not already installed. We will also set the device to GPU if available. We will then load the pre-trained BERT model and tokenizer. We will use the `XLM RoBERTa` model, since the text inputs are in Spanish, and XLM RoBERTa is a multilingual model that can handle multiple languages. We will also use the `BertTokenizer` to tokenize the text."
   ]
  },
  {
   "cell_type": "code",
   "execution_count": 19,
   "metadata": {},
   "outputs": [
    {
     "name": "stdout",
     "output_type": "stream",
     "text": [
      "transformers version: 4.48.1\n",
      "torch version: 2.6.0+cpu\n"
     ]
    }
   ],
   "source": [
    "try:\n",
    "    import transformers\n",
    "    print(f\"transformers version: {transformers.__version__}\")\n",
    "except ImportError:\n",
    "    %pip install transformers\n",
    "    import transformers\n",
    "\n",
    "try:\n",
    "    import torch\n",
    "    print(f\"torch version: {torch.__version__}\")\n",
    "except ImportError:\n",
    "    %pip install torch\n",
    "    import torch\n",
    "    \n",
    "if torch.cuda.is_available():\n",
    "    device = torch.device('cuda')\n",
    "    print(torch.cuda.get_device_name())"
   ]
  },
  {
   "cell_type": "markdown",
   "metadata": {},
   "source": [
    "Now that we downloaded some necessary libraries, we can proceed with the model building. First, we will split the data into training and validation sets (80:20). "
   ]
  },
  {
   "cell_type": "code",
   "execution_count": 18,
   "metadata": {},
   "outputs": [
    {
     "data": {
      "text/plain": [
       "((9551, 2), (2388, 2), (2985, 2))"
      ]
     },
     "execution_count": 18,
     "metadata": {},
     "output_type": "execute_result"
    }
   ],
   "source": [
    "# split data\n",
    "from sklearn.model_selection import train_test_split\n",
    "\n",
    "X_train, X_test = train_test_split(df[['cleaned_text', 'label']], test_size=0.2, random_state=42)\n",
    "X_train, X_val = train_test_split(X_train, test_size=0.2, random_state=42)\n",
    "X_train.shape, X_val.shape, X_test.shape"
   ]
  },
  {
   "cell_type": "markdown",
   "metadata": {},
   "source": [
    "Now that the dataset is divided into the testing and training set, we will tokenize the text using the `BertTokenizer`. We will also create a DataLoader for the training and validation sets. We will use a batch size of 16 for both the training and validation sets.\n",
    "\n",
    "Here we defined the model we will use, xlm roberta base, and tokenized the text. Finally we loaded the pretrained model."
   ]
  },
  {
   "cell_type": "code",
   "execution_count": null,
   "metadata": {},
   "outputs": [],
   "source": [
    "from transformers import BertTokenizer, BertForSequenceClassification, Trainer, TrainingArguments\n",
    "\n",
    "# model name\n",
    "model_name = 'xlm-roberta-base'\n",
    "\n",
    "# Load pre-trained multilingual BERT tokenizer\n",
    "tokenizer = BertTokenizer.from_pretrained(model_name)\n",
    "\n",
    "# Tokenize the dataset (same steps as before)\n",
    "def tokenize(batch):\n",
    "    return tokenizer(batch['cleaned_text'], padding=True, truncation=True)\n",
    "\n",
    "tokenized_train = X_train.map(tokenize, batched=True)\n",
    "tokenized_val = X_val.map(tokenize, batched=True)\n",
    "\n",
    "# Load the pre-trained multilingual BERT model with a classification head\n",
    "model = BertForSequenceClassification.from_pretrained(model_name, num_labels=2)"
   ]
  },
  {
   "cell_type": "markdown",
   "metadata": {},
   "source": [
    "Below we made a function for the metrics, as well as training arguments and the trainer. We will train the model using the `Trainer` class from the `transformers` library. We will use the `Trainer` class to train the model on the training set and evaluate it on the validation set. We will use the `Accuracy` metric to evaluate the model's performance."
   ]
  },
  {
   "cell_type": "code",
   "execution_count": null,
   "metadata": {},
   "outputs": [],
   "source": [
    "from sklearn.metrics import accuracy_score\n",
    "\n",
    "def compute_metrics(eval_pred):\n",
    "    logits, labels = eval_pred\n",
    "    predictions = np.argmax(logits, axis=-1)  # Get the predicted class (0 or 1)\n",
    "    accuracy = accuracy_score(labels, predictions)\n",
    "    return {'accuracy': accuracy}\n",
    "\n",
    "# Training arguments and Trainer (same as before)\n",
    "training_args = TrainingArguments(\n",
    "    output_dir='./results', \n",
    "    num_train_epochs=3, \n",
    "    per_device_train_batch_size=16)\n",
    "\n",
    "trainer = Trainer(\n",
    "    model=model, \n",
    "    args=training_args, \n",
    "    train_dataset=tokenized_train,\n",
    "    eval_dataset=tokenized_val,\n",
    "    compute_metrics=compute_metrics  # Add custom metrics function\n",
    ")\n",
    "\n",
    "# Train the model\n",
    "trainer.train()\n"
   ]
  },
  {
   "cell_type": "markdown",
   "metadata": {},
   "source": [
    "Now we tokenize the test set too, and make predictions on the test set and calculated the accuracy of the model."
   ]
  },
  {
   "cell_type": "code",
   "execution_count": null,
   "metadata": {},
   "outputs": [],
   "source": [
    "tokenized_test = X_test.map(tokenize, batched=True)\n",
    "\n",
    "predictions = trainer.predict(tokenized_test)\n",
    "\n",
    "accuracy = compute_metrics((predictions.predictions, predictions.label_ids))['accuracy']\n",
    "print(f'Accuracy on test set: {accuracy}')\n"
   ]
  },
  {
   "cell_type": "markdown",
   "metadata": {},
   "source": [
    "Now we save the model and tokenizer to disk."
   ]
  },
  {
   "cell_type": "code",
   "execution_count": null,
   "metadata": {},
   "outputs": [],
   "source": [
    "# Save the model\n",
    "model.save_pretrained('./model')\n",
    "tokenizer.save_pretrained('./model')\n",
    "trainer.save_model('./model')\n"
   ]
  },
  {
   "cell_type": "markdown",
   "metadata": {},
   "source": [
    "Finally, we make a confusion matrix to see the model's performance."
   ]
  },
  {
   "cell_type": "code",
   "execution_count": null,
   "metadata": {},
   "outputs": [],
   "source": [
    "# confusion matrix\n",
    "from sklearn.metrics import confusion_matrix\n",
    "\n",
    "# Extract logits (the raw outputs from the model)\n",
    "logits = predictions[0]\n",
    "\n",
    "# Convert logits to predicted class (0 or 1) using argmax\n",
    "predicted_classes = np.argmax(logits, axis=-1)\n",
    "\n",
    "\n",
    "confusion_matrix(X_test['label'], predicted_classes)\n",
    "\n",
    "# plot confusion matrix\n",
    "sns.heatmap(confusion_matrix(X_test['label'], predicted_classes), annot=True, fmt='d', cmap='Blues')\n",
    "plt.xlabel('Predicted Label')\n",
    "plt.ylabel('True Label')\n",
    "plt.title('Confusion Matrix')\n",
    "plt.show()"
   ]
  }
 ],
 "metadata": {
  "kernelspec": {
   "display_name": "base",
   "language": "python",
   "name": "python3"
  },
  "language_info": {
   "codemirror_mode": {
    "name": "ipython",
    "version": 3
   },
   "file_extension": ".py",
   "mimetype": "text/x-python",
   "name": "python",
   "nbconvert_exporter": "python",
   "pygments_lexer": "ipython3",
   "version": "3.12.7"
  }
 },
 "nbformat": 4,
 "nbformat_minor": 2
}
